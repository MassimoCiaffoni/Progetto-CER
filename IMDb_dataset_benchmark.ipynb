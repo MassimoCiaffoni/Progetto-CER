{
  "nbformat": 4,
  "nbformat_minor": 0,
  "metadata": {
    "colab": {
      "name": "IMDb dataset benchmark.ipynb",
      "provenance": [],
      "collapsed_sections": [],
      "include_colab_link": true
    },
    "kernelspec": {
      "name": "python3",
      "display_name": "Python 3"
    },
    "accelerator": "GPU"
  },
  "cells": [
    {
      "cell_type": "markdown",
      "metadata": {
        "id": "view-in-github",
        "colab_type": "text"
      },
      "source": [
        "<a href=\"https://colab.research.google.com/github/MassimoCiaffoni/Progetto-CER/blob/master/IMDb_dataset_benchmark.ipynb\" target=\"_parent\"><img src=\"https://colab.research.google.com/assets/colab-badge.svg\" alt=\"Open In Colab\"/></a>"
      ]
    },
    {
      "cell_type": "markdown",
      "metadata": {
        "id": "nrzbu8kzC96g",
        "colab_type": "text"
      },
      "source": [
        "# <img valign=\"middle\" src=\"https://upload.wikimedia.org/wikipedia/commons/thumb/6/69/IMDB_Logo_2016.svg/1200px-IMDB_Logo_2016.svg.png\" alt=\"IMDb\" width=\"80\">  dataset training benchmark\n",
        "\n",
        "Benchmark based on the famouse [IBMd dataset](https://www.kaggle.com/lakshmi25npathi/imdb-dataset-of-50k-movie-reviews).<br>\n",
        "50K movie reviews are labeled as \"positive\" or \"negative\" reviews<br>\n",
        "The aim of this test is to give a benchmark of the computational power between **TPU-GPU-CPU**\n",
        "\n"
      ]
    },
    {
      "cell_type": "markdown",
      "metadata": {
        "id": "dnKKm2XoHocf",
        "colab_type": "text"
      },
      "source": [
        "<h2> How to run the benchmark</h2>\n",
        "\n",
        "You need to run the code each time you want to test a different hardware, it is not possible to test them all in once.<br>\n",
        "First of all you need to log in to your Google account and connect to the laptop\n",
        "\n",
        "*   **Bench TPU performance**  <a href=\"https://cloud.google.com/tpu/\"><img valign=\"middle\" src=\"https://raw.githubusercontent.com/GoogleCloudPlatform/tensorflow-without-a-phd/master/tensorflow-rl-pong/images/tpu-hexagon.png\" width=\"50\"></a></h3><br>\n",
        "> Runtime -> Change runtime type -> select **TPU** <br>\n",
        "\n",
        "*   **Bench GPU performance** <br>\n",
        "> Runtime -> Change runtime type -> select **GPU** <br>\n",
        "\n",
        "*   **Bench CPU performance** <br>\n",
        "> Runtime -> Change runtime type -> select **None** <br>\n",
        "\n",
        "\n",
        "Run the code with the icon or simply press Runtime -> Run all\n",
        "\n"
      ]
    },
    {
      "cell_type": "markdown",
      "metadata": {
        "id": "3zpYYfwtwd2q",
        "colab_type": "text"
      },
      "source": [
        "<h3>our test results avalable <a href= \"https://github.com/MassimoCiaffoni/Progetto-CER/wiki/TPU-Performance-and-Test\">HERE</a> </h3>"
      ]
    },
    {
      "cell_type": "code",
      "metadata": {
        "id": "HmbO_VWgrs3r",
        "colab_type": "code",
        "colab": {}
      },
      "source": [
        "import tensorflow as tf\n",
        "from tensorflow.keras import layers, datasets, preprocessing, models\n",
        "import tensorflow_datasets as tfds\n",
        "print(\"TensorFlow version:\",tf.__version__)\n",
        "max_len = 200\n",
        "n_words = 10000\n",
        "dim_embedding = 256\n",
        "EPOCHS = 20\n",
        "BATCH_SIZE = 20"
      ],
      "execution_count": 0,
      "outputs": []
    },
    {
      "cell_type": "markdown",
      "metadata": {
        "id": "2Of9HtHZxYKf",
        "colab_type": "text"
      },
      "source": [
        "Tensor flow version running at the the creation of the script : **2.2.0**"
      ]
    },
    {
      "cell_type": "code",
      "metadata": {
        "id": "_RvX8fzcsQS-",
        "colab_type": "code",
        "colab": {}
      },
      "source": [
        "def load_data():\n",
        "        # Load data.\n",
        "        (X_train, y_train), (X_test, y_test) = datasets.imdb.load_data(num_words=n_words)\n",
        "        # Pad sequences with max_len.\n",
        "        X_train = preprocessing.sequence.pad_sequences(X_train, maxlen=max_len)\n",
        "        X_test = preprocessing.sequence.pad_sequences(X_test, maxlen=max_len)\n",
        "        return (X_train, y_train), (X_test, y_test)"
      ],
      "execution_count": 0,
      "outputs": []
    },
    {
      "cell_type": "code",
      "metadata": {
        "id": "LeNuQ8mgsa8o",
        "colab_type": "code",
        "colab": {}
      },
      "source": [
        "def build_model():\n",
        "    model = models.Sequential()\n",
        "    # Input: - eEmbedding Layer.\n",
        "    # The model will take as input an integer matrix of size (batch,input_length).\n",
        "    # The model will output dimension (input_length, dim_embedding).\n",
        "    # The largest integer in the input should be no larger than n_words (vocabulary size).\n",
        "    model.add(layers.Embedding(n_words, dim_embedding, input_length=max_len))\n",
        "    model.add(layers.Dropout(0.3))\n",
        "    # Takes the maximum value of either feature vector from each of the n_words features.\n",
        "    model.add(layers.GlobalMaxPooling1D())\n",
        "    model.add(layers.Dense(128, activation='relu'))\n",
        "    model.add(layers.Dropout(0.5))\n",
        "    model.add(layers.Dense(1, activation='sigmoid'))\n",
        "    return model"
      ],
      "execution_count": 0,
      "outputs": []
    },
    {
      "cell_type": "code",
      "metadata": {
        "id": "v2SS2FZOsf_j",
        "colab_type": "code",
        "colab": {}
      },
      "source": [
        "# Detect hardware, return appropriate distribution strategy\n",
        "try:\n",
        "    tpu = tf.distribute.cluster_resolver.TPUClusterResolver()  # TPU detection\n",
        "    print('Running on TPU ', tpu.cluster_spec().as_dict()['worker'])\n",
        "except ValueError:\n",
        "    tpu = None\n",
        "    gpus = tf.config.experimental.list_logical_devices(\"GPU\")\n",
        "\n",
        "if tpu:\n",
        "    tf.config.experimental_connect_to_cluster(tpu)\n",
        "    tf.tpu.experimental.initialize_tpu_system(tpu)\n",
        "    strategy = tf.distribute.experimental.TPUStrategy(tpu)\n",
        "elif len(gpus) > 1: # multiple GPUs in one VM\n",
        "    strategy = tf.distribute.MirroredStrategy(gpus)\n",
        "else: # default strategy that works on CPU and single GPU\n",
        "    strategy = tf.distribute.get_strategy()\n",
        "\n",
        "print(\"REPLICAS: \", strategy.num_replicas_in_sync)"
      ],
      "execution_count": 0,
      "outputs": []
    },
    {
      "cell_type": "code",
      "metadata": {
        "id": "U5Rn7CT6sjl-",
        "colab_type": "code",
        "colab": {}
      },
      "source": [
        "(X_train, y_train), (X_test, y_test) = load_data()\n",
        "model = build_model()\n",
        "model.summary()\n",
        "model.compile(optimizer = \"adam\", loss = \"binary_crossentropy\",\n",
        " metrics = [\"accuracy\"]\n",
        ")\n",
        "\n",
        "score = model.fit(X_train, y_train,\n",
        " epochs = EPOCHS,\n",
        " batch_size = BATCH_SIZE,\n",
        " validation_data = (X_test, y_test)\n",
        ")\n",
        "\n",
        "score = model.evaluate(X_test, y_test, batch_size=BATCH_SIZE)\n",
        "print(\"\\nTest score:\", score[0])\n",
        "print('Test accuracy:', score[1])\n"
      ],
      "execution_count": 0,
      "outputs": []
    }
  ]
}